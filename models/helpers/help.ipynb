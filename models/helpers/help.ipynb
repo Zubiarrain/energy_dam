{
 "cells": [
  {
   "cell_type": "code",
   "execution_count": 1,
   "metadata": {},
   "outputs": [],
   "source": [
    "import numpy as np\n",
    "import pandas as pd"
   ]
  },
  {
   "cell_type": "code",
   "execution_count": 24,
   "metadata": {},
   "outputs": [
    {
     "data": {
      "text/html": [
       "<div>\n",
       "<style scoped>\n",
       "    .dataframe tbody tr th:only-of-type {\n",
       "        vertical-align: middle;\n",
       "    }\n",
       "\n",
       "    .dataframe tbody tr th {\n",
       "        vertical-align: top;\n",
       "    }\n",
       "\n",
       "    .dataframe thead th {\n",
       "        text-align: right;\n",
       "    }\n",
       "</style>\n",
       "<table border=\"1\" class=\"dataframe\">\n",
       "  <thead>\n",
       "    <tr style=\"text-align: right;\">\n",
       "      <th></th>\n",
       "      <th>t[dias]</th>\n",
       "      <th>Caudal Entrante[m³/s]</th>\n",
       "      <th>Precipitacion[mm/dia]</th>\n",
       "      <th>Evaporacion[mm/dia]</th>\n",
       "      <th>Nivel[m]</th>\n",
       "      <th>Area[km2]</th>\n",
       "      <th>Volumen[Hm3]</th>\n",
       "      <th>Caudal[m³/s]</th>\n",
       "      <th>Nivel_res[m]</th>\n",
       "      <th>Unnamed: 9</th>\n",
       "      <th>Unnamed: 10</th>\n",
       "      <th>Unnamed: 11</th>\n",
       "    </tr>\n",
       "  </thead>\n",
       "  <tbody>\n",
       "    <tr>\n",
       "      <th>0</th>\n",
       "      <td>1</td>\n",
       "      <td>242.0</td>\n",
       "      <td>0.142593</td>\n",
       "      <td>0.633333</td>\n",
       "      <td>115.0</td>\n",
       "      <td>2.116721</td>\n",
       "      <td>0.933664</td>\n",
       "      <td>0.0</td>\n",
       "      <td>113.08420</td>\n",
       "      <td>NaN</td>\n",
       "      <td>DATOS</td>\n",
       "      <td>NaN</td>\n",
       "    </tr>\n",
       "    <tr>\n",
       "      <th>1</th>\n",
       "      <td>2</td>\n",
       "      <td>238.0</td>\n",
       "      <td>0.066667</td>\n",
       "      <td>1.066667</td>\n",
       "      <td>116.0</td>\n",
       "      <td>1.897833</td>\n",
       "      <td>1.799654</td>\n",
       "      <td>20.0</td>\n",
       "      <td>113.38509</td>\n",
       "      <td>NaN</td>\n",
       "      <td>Qmin [m³/s]</td>\n",
       "      <td>180.0</td>\n",
       "    </tr>\n",
       "  </tbody>\n",
       "</table>\n",
       "</div>"
      ],
      "text/plain": [
       "   t[dias]  Caudal Entrante[m³/s]  Precipitacion[mm/dia]  Evaporacion[mm/dia]  \\\n",
       "0        1                  242.0               0.142593             0.633333   \n",
       "1        2                  238.0               0.066667             1.066667   \n",
       "\n",
       "   Nivel[m]  Area[km2]  Volumen[Hm3]  Caudal[m³/s]  Nivel_res[m]  Unnamed: 9  \\\n",
       "0     115.0   2.116721      0.933664           0.0     113.08420         NaN   \n",
       "1     116.0   1.897833      1.799654          20.0     113.38509         NaN   \n",
       "\n",
       "   Unnamed: 10  Unnamed: 11  \n",
       "0        DATOS          NaN  \n",
       "1  Qmin [m³/s]        180.0  "
      ]
     },
     "execution_count": 24,
     "metadata": {},
     "output_type": "execute_result"
    }
   ],
   "source": [
    "path = '/home/vestor/Documents/proyectos_python/energy_dam/models/inputs/input_energia.xlsx'\n",
    "df = pd.read_excel(path, comment='#', index_col=None)\n",
    "df.head(2)"
   ]
  },
  {
   "cell_type": "code",
   "execution_count": 25,
   "metadata": {},
   "outputs": [
    {
     "data": {
      "text/html": [
       "<div>\n",
       "<style scoped>\n",
       "    .dataframe tbody tr th:only-of-type {\n",
       "        vertical-align: middle;\n",
       "    }\n",
       "\n",
       "    .dataframe tbody tr th {\n",
       "        vertical-align: top;\n",
       "    }\n",
       "\n",
       "    .dataframe thead th {\n",
       "        text-align: right;\n",
       "    }\n",
       "</style>\n",
       "<table border=\"1\" class=\"dataframe\">\n",
       "  <thead>\n",
       "    <tr style=\"text-align: right;\">\n",
       "      <th></th>\n",
       "      <th>t[dias]</th>\n",
       "      <th>Caudal Entrante[m³/s]</th>\n",
       "      <th>Precipitacion[mm/dia]</th>\n",
       "      <th>Evaporacion[mm/dia]</th>\n",
       "      <th>Nivel[m]</th>\n",
       "      <th>Area[km2]</th>\n",
       "      <th>Volumen[Hm3]</th>\n",
       "      <th>Caudal[m³/s]</th>\n",
       "      <th>Nivel_res[m]</th>\n",
       "    </tr>\n",
       "  </thead>\n",
       "  <tbody>\n",
       "    <tr>\n",
       "      <th>0</th>\n",
       "      <td>1</td>\n",
       "      <td>242.0</td>\n",
       "      <td>0.142593</td>\n",
       "      <td>0.633333</td>\n",
       "      <td>115.0</td>\n",
       "      <td>2.116721</td>\n",
       "      <td>0.933664</td>\n",
       "      <td>0.0</td>\n",
       "      <td>113.08420</td>\n",
       "    </tr>\n",
       "    <tr>\n",
       "      <th>1</th>\n",
       "      <td>2</td>\n",
       "      <td>238.0</td>\n",
       "      <td>0.066667</td>\n",
       "      <td>1.066667</td>\n",
       "      <td>116.0</td>\n",
       "      <td>1.897833</td>\n",
       "      <td>1.799654</td>\n",
       "      <td>20.0</td>\n",
       "      <td>113.38509</td>\n",
       "    </tr>\n",
       "  </tbody>\n",
       "</table>\n",
       "</div>"
      ],
      "text/plain": [
       "   t[dias]  Caudal Entrante[m³/s]  Precipitacion[mm/dia]  Evaporacion[mm/dia]  \\\n",
       "0        1                  242.0               0.142593             0.633333   \n",
       "1        2                  238.0               0.066667             1.066667   \n",
       "\n",
       "   Nivel[m]  Area[km2]  Volumen[Hm3]  Caudal[m³/s]  Nivel_res[m]  \n",
       "0     115.0   2.116721      0.933664           0.0     113.08420  \n",
       "1     116.0   1.897833      1.799654          20.0     113.38509  "
      ]
     },
     "execution_count": 25,
     "metadata": {},
     "output_type": "execute_result"
    }
   ],
   "source": [
    "unnameds = [i for i in df.columns if 'Unnamed' in i]\n",
    "df = df.drop(unnameds, axis=1)\n",
    "df.head(2)\n"
   ]
  },
  {
   "cell_type": "code",
   "execution_count": 34,
   "metadata": {},
   "outputs": [
    {
     "data": {
      "text/plain": [
       "True"
      ]
     },
     "execution_count": 34,
     "metadata": {},
     "output_type": "execute_result"
    }
   ],
   "source": [
    "nulls = df.isnull()*1\n",
    "nulls['Caudal[m³/s]'].sum() == nulls['Nivel_res[m]'].sum()\n"
   ]
  },
  {
   "cell_type": "code",
   "execution_count": 44,
   "metadata": {},
   "outputs": [
    {
     "data": {
      "text/plain": [
       "116.54793337274486"
      ]
     },
     "execution_count": 44,
     "metadata": {},
     "output_type": "execute_result"
    }
   ],
   "source": [
    "df['Nivel_res[m]'].mean()"
   ]
  },
  {
   "cell_type": "code",
   "execution_count": 40,
   "metadata": {},
   "outputs": [
    {
     "data": {
      "text/plain": [
       "115.0"
      ]
     },
     "execution_count": 40,
     "metadata": {},
     "output_type": "execute_result"
    }
   ],
   "source": [
    "df[\"Nivel[m]\"].min()"
   ]
  },
  {
   "cell_type": "code",
   "execution_count": 43,
   "metadata": {},
   "outputs": [
    {
     "data": {
      "text/html": [
       "<div>\n",
       "<style scoped>\n",
       "    .dataframe tbody tr th:only-of-type {\n",
       "        vertical-align: middle;\n",
       "    }\n",
       "\n",
       "    .dataframe tbody tr th {\n",
       "        vertical-align: top;\n",
       "    }\n",
       "\n",
       "    .dataframe thead th {\n",
       "        text-align: right;\n",
       "    }\n",
       "</style>\n",
       "<table border=\"1\" class=\"dataframe\">\n",
       "  <thead>\n",
       "    <tr style=\"text-align: right;\">\n",
       "      <th></th>\n",
       "      <th>t[dias]</th>\n",
       "      <th>Caudal Entrante[m³/s]</th>\n",
       "      <th>Precipitacion[mm/dia]</th>\n",
       "      <th>Evaporacion[mm/dia]</th>\n",
       "      <th>Nivel[m]</th>\n",
       "      <th>Area[km2]</th>\n",
       "      <th>Volumen[Hm3]</th>\n",
       "      <th>Caudal[m³/s]</th>\n",
       "      <th>Nivel_res[m]</th>\n",
       "    </tr>\n",
       "  </thead>\n",
       "  <tbody>\n",
       "    <tr>\n",
       "      <th>21534</th>\n",
       "      <td>21535</td>\n",
       "      <td>367.58</td>\n",
       "      <td>0.470909</td>\n",
       "      <td>0.583333</td>\n",
       "      <td>NaN</td>\n",
       "      <td>NaN</td>\n",
       "      <td>NaN</td>\n",
       "      <td>NaN</td>\n",
       "      <td>NaN</td>\n",
       "    </tr>\n",
       "  </tbody>\n",
       "</table>\n",
       "</div>"
      ],
      "text/plain": [
       "       t[dias]  Caudal Entrante[m³/s]  Precipitacion[mm/dia]  \\\n",
       "21534    21535                 367.58               0.470909   \n",
       "\n",
       "       Evaporacion[mm/dia]  Nivel[m]  Area[km2]  Volumen[Hm3]  Caudal[m³/s]  \\\n",
       "21534             0.583333       NaN        NaN           NaN           NaN   \n",
       "\n",
       "       Nivel_res[m]  \n",
       "21534           NaN  "
      ]
     },
     "execution_count": 43,
     "metadata": {},
     "output_type": "execute_result"
    }
   ],
   "source": [
    "nivel = df[\"Nivel[m]\"].dropna().tail(1)"
   ]
  },
  {
   "cell_type": "code",
   "execution_count": 57,
   "metadata": {},
   "outputs": [
    {
     "data": {
      "text/html": [
       "<div>\n",
       "<style scoped>\n",
       "    .dataframe tbody tr th:only-of-type {\n",
       "        vertical-align: middle;\n",
       "    }\n",
       "\n",
       "    .dataframe tbody tr th {\n",
       "        vertical-align: top;\n",
       "    }\n",
       "\n",
       "    .dataframe thead th {\n",
       "        text-align: right;\n",
       "    }\n",
       "</style>\n",
       "<table border=\"1\" class=\"dataframe\">\n",
       "  <thead>\n",
       "    <tr style=\"text-align: right;\">\n",
       "      <th></th>\n",
       "      <th>Caudal[m³/s]</th>\n",
       "      <th>Nivel_res[m]</th>\n",
       "    </tr>\n",
       "  </thead>\n",
       "  <tbody>\n",
       "    <tr>\n",
       "      <th>0</th>\n",
       "      <td>0.0</td>\n",
       "      <td>113.084200</td>\n",
       "    </tr>\n",
       "    <tr>\n",
       "      <th>1</th>\n",
       "      <td>20.0</td>\n",
       "      <td>113.385090</td>\n",
       "    </tr>\n",
       "    <tr>\n",
       "      <th>2</th>\n",
       "      <td>40.0</td>\n",
       "      <td>113.540548</td>\n",
       "    </tr>\n",
       "    <tr>\n",
       "      <th>3</th>\n",
       "      <td>60.0</td>\n",
       "      <td>113.666450</td>\n",
       "    </tr>\n",
       "    <tr>\n",
       "      <th>4</th>\n",
       "      <td>80.0</td>\n",
       "      <td>113.776326</td>\n",
       "    </tr>\n",
       "    <tr>\n",
       "      <th>...</th>\n",
       "      <td>...</td>\n",
       "      <td>...</td>\n",
       "    </tr>\n",
       "    <tr>\n",
       "      <th>124</th>\n",
       "      <td>2480.0</td>\n",
       "      <td>118.533547</td>\n",
       "    </tr>\n",
       "    <tr>\n",
       "      <th>125</th>\n",
       "      <td>2500.0</td>\n",
       "      <td>118.559912</td>\n",
       "    </tr>\n",
       "    <tr>\n",
       "      <th>126</th>\n",
       "      <td>2520.0</td>\n",
       "      <td>118.586193</td>\n",
       "    </tr>\n",
       "    <tr>\n",
       "      <th>127</th>\n",
       "      <td>2540.0</td>\n",
       "      <td>118.612391</td>\n",
       "    </tr>\n",
       "    <tr>\n",
       "      <th>128</th>\n",
       "      <td>2560.0</td>\n",
       "      <td>118.638507</td>\n",
       "    </tr>\n",
       "  </tbody>\n",
       "</table>\n",
       "<p>129 rows × 2 columns</p>\n",
       "</div>"
      ],
      "text/plain": [
       "     Caudal[m³/s]  Nivel_res[m]\n",
       "0             0.0    113.084200\n",
       "1            20.0    113.385090\n",
       "2            40.0    113.540548\n",
       "3            60.0    113.666450\n",
       "4            80.0    113.776326\n",
       "..            ...           ...\n",
       "124        2480.0    118.533547\n",
       "125        2500.0    118.559912\n",
       "126        2520.0    118.586193\n",
       "127        2540.0    118.612391\n",
       "128        2560.0    118.638507\n",
       "\n",
       "[129 rows x 2 columns]"
      ]
     },
     "execution_count": 57,
     "metadata": {},
     "output_type": "execute_result"
    }
   ],
   "source": [
    "q_nres = df[[\"Caudal[m³/s]\",\"Nivel_res[m]\"]].dropna()\n",
    "q = df[\"Caudal[m³/s]\"].dropna()\n",
    "n_res = df[\"Nivel_res[m]\"].dropna()\n",
    "q_nres"
   ]
  },
  {
   "cell_type": "code",
   "execution_count": 85,
   "metadata": {},
   "outputs": [
    {
     "data": {
      "text/plain": [
       "True"
      ]
     },
     "execution_count": 85,
     "metadata": {},
     "output_type": "execute_result"
    }
   ],
   "source": [
    "def error(): raise Exception(\"Fuera de los limites\")\n",
    "inter = np.interp(2700, q, n_res, right=np.Inf, left=-np.inf)\n",
    "np.isneginf(inter)\n",
    "np.isinf(inter)"
   ]
  },
  {
   "cell_type": "code",
   "execution_count": 116,
   "metadata": {},
   "outputs": [
    {
     "data": {
      "text/plain": [
       "array([1, 2, 3])"
      ]
     },
     "execution_count": 116,
     "metadata": {},
     "output_type": "execute_result"
    }
   ],
   "source": [
    "arr = np.array([1,2,3])\n",
    "np.concatenate((arr,[5]),axis=0)\n",
    "arr"
   ]
  },
  {
   "cell_type": "code",
   "execution_count": 100,
   "metadata": {},
   "outputs": [
    {
     "data": {
      "text/plain": [
       "21535"
      ]
     },
     "execution_count": 100,
     "metadata": {},
     "output_type": "execute_result"
    }
   ],
   "source": [
    "df['t[dias]'].max()"
   ]
  },
  {
   "cell_type": "code",
   "execution_count": 101,
   "metadata": {},
   "outputs": [
    {
     "data": {
      "text/html": [
       "<div>\n",
       "<style scoped>\n",
       "    .dataframe tbody tr th:only-of-type {\n",
       "        vertical-align: middle;\n",
       "    }\n",
       "\n",
       "    .dataframe tbody tr th {\n",
       "        vertical-align: top;\n",
       "    }\n",
       "\n",
       "    .dataframe thead th {\n",
       "        text-align: right;\n",
       "    }\n",
       "</style>\n",
       "<table border=\"1\" class=\"dataframe\">\n",
       "  <thead>\n",
       "    <tr style=\"text-align: right;\">\n",
       "      <th></th>\n",
       "      <th>t[dias]</th>\n",
       "      <th>Caudal Entrante[m³/s]</th>\n",
       "      <th>Precipitacion[mm/dia]</th>\n",
       "      <th>Evaporacion[mm/dia]</th>\n",
       "      <th>Nivel[m]</th>\n",
       "      <th>Area[km2]</th>\n",
       "      <th>Volumen[Hm3]</th>\n",
       "      <th>Caudal[m³/s]</th>\n",
       "      <th>Nivel_res[m]</th>\n",
       "    </tr>\n",
       "  </thead>\n",
       "  <tbody>\n",
       "    <tr>\n",
       "      <th>0</th>\n",
       "      <td>1</td>\n",
       "      <td>242.00</td>\n",
       "      <td>0.142593</td>\n",
       "      <td>0.633333</td>\n",
       "      <td>115.0</td>\n",
       "      <td>2.116721</td>\n",
       "      <td>0.933664</td>\n",
       "      <td>0.0</td>\n",
       "      <td>113.084200</td>\n",
       "    </tr>\n",
       "    <tr>\n",
       "      <th>1</th>\n",
       "      <td>2</td>\n",
       "      <td>238.00</td>\n",
       "      <td>0.066667</td>\n",
       "      <td>1.066667</td>\n",
       "      <td>116.0</td>\n",
       "      <td>1.897833</td>\n",
       "      <td>1.799654</td>\n",
       "      <td>20.0</td>\n",
       "      <td>113.385090</td>\n",
       "    </tr>\n",
       "    <tr>\n",
       "      <th>2</th>\n",
       "      <td>3</td>\n",
       "      <td>238.00</td>\n",
       "      <td>0.216667</td>\n",
       "      <td>1.721429</td>\n",
       "      <td>117.0</td>\n",
       "      <td>1.833740</td>\n",
       "      <td>3.105679</td>\n",
       "      <td>40.0</td>\n",
       "      <td>113.540548</td>\n",
       "    </tr>\n",
       "    <tr>\n",
       "      <th>3</th>\n",
       "      <td>4</td>\n",
       "      <td>232.00</td>\n",
       "      <td>0.479630</td>\n",
       "      <td>1.485714</td>\n",
       "      <td>118.0</td>\n",
       "      <td>1.926698</td>\n",
       "      <td>4.954179</td>\n",
       "      <td>60.0</td>\n",
       "      <td>113.666450</td>\n",
       "    </tr>\n",
       "    <tr>\n",
       "      <th>4</th>\n",
       "      <td>5</td>\n",
       "      <td>236.00</td>\n",
       "      <td>0.351852</td>\n",
       "      <td>1.060000</td>\n",
       "      <td>119.0</td>\n",
       "      <td>2.178765</td>\n",
       "      <td>7.451607</td>\n",
       "      <td>80.0</td>\n",
       "      <td>113.776326</td>\n",
       "    </tr>\n",
       "    <tr>\n",
       "      <th>...</th>\n",
       "      <td>...</td>\n",
       "      <td>...</td>\n",
       "      <td>...</td>\n",
       "      <td>...</td>\n",
       "      <td>...</td>\n",
       "      <td>...</td>\n",
       "      <td>...</td>\n",
       "      <td>...</td>\n",
       "      <td>...</td>\n",
       "    </tr>\n",
       "    <tr>\n",
       "      <th>21530</th>\n",
       "      <td>21531</td>\n",
       "      <td>373.36</td>\n",
       "      <td>0.240000</td>\n",
       "      <td>1.600000</td>\n",
       "      <td>NaN</td>\n",
       "      <td>NaN</td>\n",
       "      <td>NaN</td>\n",
       "      <td>NaN</td>\n",
       "      <td>NaN</td>\n",
       "    </tr>\n",
       "    <tr>\n",
       "      <th>21531</th>\n",
       "      <td>21532</td>\n",
       "      <td>369.43</td>\n",
       "      <td>0.196364</td>\n",
       "      <td>1.716667</td>\n",
       "      <td>NaN</td>\n",
       "      <td>NaN</td>\n",
       "      <td>NaN</td>\n",
       "      <td>NaN</td>\n",
       "      <td>NaN</td>\n",
       "    </tr>\n",
       "    <tr>\n",
       "      <th>21532</th>\n",
       "      <td>21533</td>\n",
       "      <td>364.13</td>\n",
       "      <td>0.474545</td>\n",
       "      <td>0.666667</td>\n",
       "      <td>NaN</td>\n",
       "      <td>NaN</td>\n",
       "      <td>NaN</td>\n",
       "      <td>NaN</td>\n",
       "      <td>NaN</td>\n",
       "    </tr>\n",
       "    <tr>\n",
       "      <th>21533</th>\n",
       "      <td>21534</td>\n",
       "      <td>364.36</td>\n",
       "      <td>0.118182</td>\n",
       "      <td>0.983333</td>\n",
       "      <td>NaN</td>\n",
       "      <td>NaN</td>\n",
       "      <td>NaN</td>\n",
       "      <td>NaN</td>\n",
       "      <td>NaN</td>\n",
       "    </tr>\n",
       "    <tr>\n",
       "      <th>21534</th>\n",
       "      <td>21535</td>\n",
       "      <td>367.58</td>\n",
       "      <td>0.470909</td>\n",
       "      <td>0.583333</td>\n",
       "      <td>NaN</td>\n",
       "      <td>NaN</td>\n",
       "      <td>NaN</td>\n",
       "      <td>NaN</td>\n",
       "      <td>NaN</td>\n",
       "    </tr>\n",
       "  </tbody>\n",
       "</table>\n",
       "<p>21535 rows × 9 columns</p>\n",
       "</div>"
      ],
      "text/plain": [
       "       t[dias]  Caudal Entrante[m³/s]  Precipitacion[mm/dia]  \\\n",
       "0            1                 242.00               0.142593   \n",
       "1            2                 238.00               0.066667   \n",
       "2            3                 238.00               0.216667   \n",
       "3            4                 232.00               0.479630   \n",
       "4            5                 236.00               0.351852   \n",
       "...        ...                    ...                    ...   \n",
       "21530    21531                 373.36               0.240000   \n",
       "21531    21532                 369.43               0.196364   \n",
       "21532    21533                 364.13               0.474545   \n",
       "21533    21534                 364.36               0.118182   \n",
       "21534    21535                 367.58               0.470909   \n",
       "\n",
       "       Evaporacion[mm/dia]  Nivel[m]  Area[km2]  Volumen[Hm3]  Caudal[m³/s]  \\\n",
       "0                 0.633333     115.0   2.116721      0.933664           0.0   \n",
       "1                 1.066667     116.0   1.897833      1.799654          20.0   \n",
       "2                 1.721429     117.0   1.833740      3.105679          40.0   \n",
       "3                 1.485714     118.0   1.926698      4.954179          60.0   \n",
       "4                 1.060000     119.0   2.178765      7.451607          80.0   \n",
       "...                    ...       ...        ...           ...           ...   \n",
       "21530             1.600000       NaN        NaN           NaN           NaN   \n",
       "21531             1.716667       NaN        NaN           NaN           NaN   \n",
       "21532             0.666667       NaN        NaN           NaN           NaN   \n",
       "21533             0.983333       NaN        NaN           NaN           NaN   \n",
       "21534             0.583333       NaN        NaN           NaN           NaN   \n",
       "\n",
       "       Nivel_res[m]  \n",
       "0        113.084200  \n",
       "1        113.385090  \n",
       "2        113.540548  \n",
       "3        113.666450  \n",
       "4        113.776326  \n",
       "...             ...  \n",
       "21530           NaN  \n",
       "21531           NaN  \n",
       "21532           NaN  \n",
       "21533           NaN  \n",
       "21534           NaN  \n",
       "\n",
       "[21535 rows x 9 columns]"
      ]
     },
     "execution_count": 101,
     "metadata": {},
     "output_type": "execute_result"
    }
   ],
   "source": [
    "df"
   ]
  },
  {
   "cell_type": "code",
   "execution_count": null,
   "metadata": {},
   "outputs": [],
   "source": []
  }
 ],
 "metadata": {
  "kernelspec": {
   "display_name": "Python 3.9.12 ('base')",
   "language": "python",
   "name": "python3"
  },
  "language_info": {
   "codemirror_mode": {
    "name": "ipython",
    "version": 3
   },
   "file_extension": ".py",
   "mimetype": "text/x-python",
   "name": "python",
   "nbconvert_exporter": "python",
   "pygments_lexer": "ipython3",
   "version": "3.9.12"
  },
  "orig_nbformat": 4,
  "vscode": {
   "interpreter": {
    "hash": "559d525c322b7ede84de1330d69b938f0203d78c86edb3c17116fd17373121fd"
   }
  }
 },
 "nbformat": 4,
 "nbformat_minor": 2
}
